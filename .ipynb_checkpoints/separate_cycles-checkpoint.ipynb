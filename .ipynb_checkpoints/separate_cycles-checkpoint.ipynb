{
 "cells": [
  {
   "cell_type": "code",
   "execution_count": 36,
   "id": "c9b31eb0",
   "metadata": {},
   "outputs": [],
   "source": [
    "from pathlib import Path\n",
    "import numpy as np\n",
    "import matplotlib.pyplot as plt\n",
    "folder = \"D:\\Research\\FilaminC_rod\\data\\FLNCIg1to8(2269)\\selected curves\" # the folder where the data txt file saved\n",
    "folder_name = Path(folder)\n",
    "file = \"20221213_2269_Spy_FLNCIg1to8_Avi_di100_nohandle_m270_PTB_37C_bead01_Cas200_01_1_10pns1_first7steps.txt\" #the data txt file needed to choose"
   ]
  },
  {
   "cell_type": "code",
   "execution_count": 37,
   "id": "a4bf00a4",
   "metadata": {},
   "outputs": [],
   "source": [
    "rawdata = np.loadtxt(folder_name/file, skiprows=2)\n",
    "C = 200 #the C value of the tether"
   ]
  },
  {
   "cell_type": "code",
   "execution_count": 38,
   "id": "0b317a46",
   "metadata": {},
   "outputs": [
    {
     "name": "stdout",
     "output_type": "stream",
     "text": [
      "8.18\n"
     ]
    }
   ],
   "source": [
    "rawTime = rawdata[:,0]\n",
    "rawMagPos = rawdata[:,1]\n",
    "rawForce = C*(np.exp(-(13.5-rawMagPos)/0.36)+0.48*np.exp(-(13.5-rawMagPos)/1.12))\n",
    "rawExt = rawdata[:,2]\n",
    "\n",
    "MagPos_cutoff = 8.18 #input the starting magnet position for cutoff the cycle\n",
    "#MagPos_cutoff = min(rawMagPos) #input the minimum magnet position and set as the cutoff of the cycle automatically\n",
    "print(MagPos_cutoff)"
   ]
  },
  {
   "cell_type": "code",
   "execution_count": 39,
   "id": "cdd39193",
   "metadata": {},
   "outputs": [],
   "source": [
    "cycleflag = 0\n",
    "newTime = [[]]\n",
    "newExt = [[]]\n",
    "Force = [[]]\n",
    "datalength = len(rawTime)\n",
    "for i in range(datalength-1):\n",
    "  if np.isnan(rawExt[i]):\n",
    "    rawExt[i]=rawExt[i-1]\n",
    "  if rawMagPos[i]>MagPos_cutoff:\n",
    "    if all(rawMagPos[i+1:i+10]<=MagPos_cutoff):\n",
    "      cycleflag = cycleflag + 1\n",
    "      newTime.append([])\n",
    "      newExt.append([])\n",
    "      Force.append([])\n",
    "    else:\n",
    "        newTime[cycleflag].append(rawTime[i])\n",
    "        newExt[cycleflag].append(rawExt[i])\n",
    "        Force[cycleflag].append(rawForce[i])\n",
    "\n",
    "cycle_data_increase = []\n",
    "cycle_data_decrease = []\n",
    "for j in range(len(Force)):\n",
    "    max_index = np.argmax(Force[j])\n",
    "    cycle_data_increase.append([newTime[j][:max_index], Force[j][:max_index], newExt[j][:max_index]]) \n",
    "    cycle_data_decrease.append([newTime[j][max_index:], Force[j][max_index:], newExt[j][max_index:]]) "
   ]
  },
  {
   "cell_type": "code",
   "execution_count": 40,
   "id": "2355a4db",
   "metadata": {},
   "outputs": [],
   "source": [
    "import zipfile\n",
    "import os\n",
    "\n",
    "zip_name = \"test_zip\" #change the zipfile name for saving\n",
    "zip_file = folder+\"\\\\\"+zip_name\n",
    "\n",
    "\n",
    "zip_file += \".zip\"\n",
    "with zipfile.ZipFile(zip_file, 'w') as zip_object:\n",
    "    for i in range(len(cycle_data_increase)):\n",
    "        txt_name = 'cycle_%.d_increase.txt'%(i+1)\n",
    "        head_txt = 'Time\\t' + 'Force\\t' + 'Extension'\n",
    "        np.savetxt(txt_name, np.transpose(cycle_data_increase[i]), header=head_txt, comments='')\n",
    "        zip_object.write(txt_name)\n",
    "        os.remove(txt_name)\n",
    "    \n",
    "    for j in range(len(cycle_data_decrease)):\n",
    "        txt_name = 'cycle_%.d_decrease.txt'%(j+1)\n",
    "        head_txt = 'Time\\t' + 'Force\\t' + 'Extension'\n",
    "        np.savetxt(txt_name, np.transpose(cycle_data_decrease[j]), header=head_txt, comments='')\n",
    "        zip_object.write(txt_name)\n",
    "        os.remove(txt_name)"
   ]
  },
  {
   "cell_type": "code",
   "execution_count": null,
   "id": "3d1a2519",
   "metadata": {},
   "outputs": [],
   "source": []
  }
 ],
 "metadata": {
  "kernelspec": {
   "display_name": "Python 3 (ipykernel)",
   "language": "python",
   "name": "python3"
  },
  "language_info": {
   "codemirror_mode": {
    "name": "ipython",
    "version": 3
   },
   "file_extension": ".py",
   "mimetype": "text/x-python",
   "name": "python",
   "nbconvert_exporter": "python",
   "pygments_lexer": "ipython3",
   "version": "3.11.3"
  }
 },
 "nbformat": 4,
 "nbformat_minor": 5
}
